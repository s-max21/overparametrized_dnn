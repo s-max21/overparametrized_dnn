{
 "cells": [
  {
   "cell_type": "code",
   "execution_count": 2,
   "metadata": {},
   "outputs": [
    {
     "name": "stdout",
     "output_type": "stream",
     "text": [
      "Current Working Directory: c:\\Users\\max-s\\Desktop\\Uni\\Master\\Masterthesis\\Code\\git\\overparametrized_dnn\n"
     ]
    }
   ],
   "source": [
    "import os\n",
    "\n",
    "os.chdir(\"..\")\n",
    "\n",
    "current_directory = os.getcwd()\n",
    "print(\"Current Working Directory:\", current_directory)"
   ]
  },
  {
   "cell_type": "code",
   "execution_count": 3,
   "metadata": {},
   "outputs": [
    {
     "name": "stdout",
     "output_type": "stream",
     "text": [
      "WARNING:tensorflow:From c:\\Users\\max-s\\anaconda3\\envs\\py4ds\\Lib\\site-packages\\keras\\src\\losses.py:2976: The name tf.losses.sparse_softmax_cross_entropy is deprecated. Please use tf.compat.v1.losses.sparse_softmax_cross_entropy instead.\n",
      "\n"
     ]
    }
   ],
   "source": [
    "from data.regression_functions import m1, m2, m3, m4, m5, m6, m7, m8\n",
    "from data.data_generator import get_data, preprocess\n",
    "from src.my_dnn import create_dnn\n",
    "import matplotlib.pyplot as plt\n",
    "from sklearn.model_selection import train_test_split\n",
    "import numpy as np\n",
    "import keras\n",
    "import keras_tuner as kt"
   ]
  },
  {
   "cell_type": "code",
   "execution_count": 4,
   "metadata": {},
   "outputs": [],
   "source": [
    "x, y = get_data(m8, x_dim=m8.expected_dim, num_samples=100)\n",
    "x_train, x_test, y_train, y_test = train_test_split(x, y, test_size=0.25)\n",
    "\n",
    "train_data = preprocess(x_train, y_train, training=True)\n",
    "test_data = preprocess(x_test, y_test, training=False)"
   ]
  },
  {
   "cell_type": "code",
   "execution_count": 6,
   "metadata": {},
   "outputs": [
    {
     "data": {
      "image/png": "[encoded data removed]",
      "text/plain": [
       "<Figure size 640x480 with 1 Axes>"
      ]
     },
     "metadata": {},
     "output_type": "display_data"
    }
   ],
   "source": [
    "z = np.linspace(0, 1, 100)\n",
    "h = m1(z)\n",
    "plt.plot(z, h, label=\"m1\", color=\"b\")\n",
    "plt.scatter(x_train, y_train, label=\"train data\", color=\"r\")\n",
    "plt.show()"
   ]
  },
  {
   "cell_type": "code",
   "execution_count": 5,
   "metadata": {},
   "outputs": [],
   "source": [
    "def build_hp_model(\n",
    "            train_shape,\n",
    "            num_networks,\n",
    "            num_layers,\n",
    "            num_neurons,\n",
    "            beta,\n",
    "            gamma,\n",
    "            learning_rate\n",
    "            ):\n",
    "    \n",
    "    model = create_dnn(\n",
    "        train_shape=train_shape,\n",
    "        num_networks=num_networks,\n",
    "        num_layers=num_layers,\n",
    "        num_neurons=num_neurons,\n",
    "        beta=beta,\n",
    "        gamma=gamma,\n",
    "        delta=1,\n",
    "    )\n",
    "\n",
    "    optimizer = keras.optimizers.SGD(learning_rate=learning_rate)\n",
    "    \n",
    "    model.compile(\n",
    "        optimizer=optimizer, \n",
    "        loss=\"mean_squared_error\", \n",
    "        metrics=[\"mean_squared_error\"]\n",
    "        )\n",
    "    return model"
   ]
  },
  {
   "cell_type": "code",
   "execution_count": 6,
   "metadata": {},
   "outputs": [
    {
     "name": "stdout",
     "output_type": "stream",
     "text": [
      "WARNING:tensorflow:From c:\\Users\\max-s\\anaconda3\\envs\\py4ds\\Lib\\site-packages\\keras\\src\\backend.py:873: The name tf.get_default_graph is deprecated. Please use tf.compat.v1.get_default_graph instead.\n",
      "\n",
      "\n",
      "Search: Running Trial #1\n",
      "\n",
      "Value             |Best Value So Far |Hyperparameter\n",
      "20                |20                |units\n",
      "20                |20                |layers\n",
      "225               |225               |networks\n",
      "31.009            |31.009            |beta\n",
      "70.992            |70.992            |gamma\n",
      "3.9013e-07        |3.9013e-07        |learning_rate\n",
      "3                 |3                 |tuner/epochs\n",
      "0                 |0                 |tuner/initial_epoch\n",
      "5                 |5                 |tuner/bracket\n",
      "0                 |0                 |tuner/round\n",
      "\n",
      "Epoch 1/3\n",
      "WARNING:tensorflow:From c:\\Users\\max-s\\anaconda3\\envs\\py4ds\\Lib\\site-packages\\keras\\src\\utils\\tf_utils.py:492: The name tf.ragged.RaggedTensorValue is deprecated. Please use tf.compat.v1.ragged.RaggedTensorValue instead.\n",
      "\n"
     ]
    }
   ],
   "source": [
    "def build_hp_model(\n",
    "            train_shape,\n",
    "            num_networks,\n",
    "            num_layers,\n",
    "            num_neurons,\n",
    "            beta,\n",
    "            gamma,\n",
    "            learning_rate\n",
    "            ):\n",
    "    \n",
    "    model = create_dnn(\n",
    "        train_shape=train_shape,\n",
    "        num_networks=num_networks,\n",
    "        num_layers=num_layers,\n",
    "        num_neurons=num_neurons,\n",
    "        beta=beta,\n",
    "        gamma=gamma,\n",
    "        delta=1,\n",
    "    )\n",
    "\n",
    "    optimizer = keras.optimizers.SGD(learning_rate=learning_rate)\n",
    "    \n",
    "    model.compile(\n",
    "        optimizer=optimizer, \n",
    "        loss=\"mean_squared_error\", \n",
    "        metrics=[\"mean_squared_error\"]\n",
    "        )\n",
    "    return model\n",
    "\n",
    "train_shape = x_train.shape\n",
    "\n",
    "class MyHyperModel(kt.HyperModel):\n",
    "    def build(self, hp):\n",
    "        hp_units = hp.Int('units', min_value=10, max_value=40, step=10)\n",
    "        hp_layers = hp.Int('layers', min_value=5, max_value=20, step=5)\n",
    "        hp_nets = hp.Int('networks', min_value=75, max_value=6*75, step=25)\n",
    "        hp_beta = hp.Float('beta', min_value=20, max_value=80)\n",
    "        hp_gamma = hp.Float('gamma', min_value=30, max_value=80)\n",
    "        hp_learning_rate = hp.Float('learning_rate', min_value=np.exp(-16), max_value=np.exp(-14), sampling='log')\n",
    "        \n",
    "        model = build_hp_model(\n",
    "            train_shape=train_shape,\n",
    "            num_networks=hp_nets,\n",
    "            num_layers=hp_layers,\n",
    "            num_neurons=hp_units,\n",
    "            beta=hp_beta,\n",
    "            gamma=hp_gamma,\n",
    "            learning_rate=hp_learning_rate\n",
    "            )\n",
    "        return model\n",
    "    \n",
    "# Initialize the tuner\n",
    "tuner = kt.Hyperband(\n",
    "    MyHyperModel(),\n",
    "    objective='val_loss',\n",
    "    max_epochs=500,\n",
    "    hyperband_iterations=4\n",
    ")\n",
    "\n",
    "# Note: Replace `x_train` and `y_train` with your actual training data and labels\n",
    "# Start the hyperparameter search\n",
    "tuner.search(x_train, y_train, epochs=100, validation_split=0.25)\n",
    "\n",
    "# Get the optimal hyperparameters\n",
    "best_hps = tuner.get_best_hyperparameters()[0]\n",
    "\n",
    "print(best_hps.values)"
   ]
  },
  {
   "cell_type": "code",
   "execution_count": 8,
   "metadata": {},
   "outputs": [
    {
     "name": "stdout",
     "output_type": "stream",
     "text": [
      "WARNING:tensorflow:From c:\\Users\\max-s\\anaconda3\\envs\\py4ds\\Lib\\site-packages\\keras\\src\\backend.py:873: The name tf.get_default_graph is deprecated. Please use tf.compat.v1.get_default_graph instead.\n",
      "\n",
      "\n",
      "Search: Running Trial #1\n",
      "\n",
      "Value             |Best Value So Far |Hyperparameter\n",
      "30                |30                |units\n",
      "5                 |5                 |layers\n",
      "225               |225               |networks\n",
      "73.374            |73.374            |beta\n",
      "66.567            |66.567            |gamma\n",
      "2.5894e-07        |2.5894e-07        |learning_rate\n",
      "2                 |2                 |tuner/epochs\n",
      "0                 |0                 |tuner/initial_epoch\n",
      "4                 |4                 |tuner/bracket\n",
      "0                 |0                 |tuner/round\n",
      "\n",
      "Epoch 1/2\n",
      "WARNING:tensorflow:From c:\\Users\\max-s\\anaconda3\\envs\\py4ds\\Lib\\site-packages\\keras\\src\\utils\\tf_utils.py:492: The name tf.ragged.RaggedTensorValue is deprecated. Please use tf.compat.v1.ragged.RaggedTensorValue instead.\n",
      "\n"
     ]
    }
   ],
   "source": [
    "# Initialize the tuner\n",
    "tuner = kt.Hyperband(\n",
    "    MyHyperModel(),\n",
    "    objective='val_loss',\n",
    ")\n",
    "\n",
    "# Note: Replace `x_train` and `y_train` with your actual training data and labels\n",
    "# Start the hyperparameter search\n",
    "tuner.search(x_train, y_train, epochs=50, validation_split=0.25)\n",
    "\n",
    "# Get the optimal hyperparameters\n",
    "best_hps = tuner.get_best_hyperparameters()[0]\n",
    "\n",
    "print(best_hps.values)"
   ]
  },
  {
   "cell_type": "code",
   "execution_count": 11,
   "metadata": {},
   "outputs": [
    {
     "name": "stdout",
     "output_type": "stream",
     "text": [
      "1563/1563 [==============================] - 26s 17ms/step - loss: 0.0071 - mean_squared_error: 0.0071\n"
     ]
    },
    {
     "data": {
      "text/plain": [
       "[0.007052791304886341, 0.007052791304886341]"
      ]
     },
     "execution_count": 11,
     "metadata": {},
     "output_type": "execute_result"
    }
   ],
   "source": [
    "x_val, y_val = get_data(m1, x_dim=m1.expected_dim, num_samples=10**5)\n",
    "validation_data = preprocess(x_val, y_val, training=False)\n",
    "\n",
    "model.evaluate(validation_data)"
   ]
  },
  {
   "cell_type": "code",
   "execution_count": 14,
   "metadata": {},
   "outputs": [
    {
     "name": "stdout",
     "output_type": "stream",
     "text": [
      "4/4 [==============================] - 0s 24ms/step\n"
     ]
    },
    {
     "data": {
      "image/png": "[encoded data removed]",
      "text/plain": [
       "<Figure size 640x480 with 1 Axes>"
      ]
     },
     "metadata": {},
     "output_type": "display_data"
    }
   ],
   "source": [
    "z = np.linspace(0, 1, 100)\n",
    "h = m1(z)\n",
    "h_pred = model.predict(z)\n",
    "plt.plot(z, h, label=\"m1\", color=\"b\")\n",
    "plt.plot(z, h_pred, label=\"m1_pred\", color=\"g\")\n",
    "plt.scatter(x_train, y_train, label=\"train data\", color=\"r\")\n",
    "plt.show()"
   ]
  },
  {
   "cell_type": "code",
   "execution_count": 15,
   "metadata": {},
   "outputs": [],
   "source": [
    "import tensorflow as tf\n",
    "\n",
    "def test_norm_l1(model):\n",
    "    # Test if L1 projection of last layer worked\n",
    "    weights = tf.reshape(model.trainable_variables[-1], [-1])\n",
    "    norm = tf.norm(weights, ord=1)\n",
    "    print(\"norm: {}, gamma: {}\".format(norm, model.gamma))\n",
    "\n",
    "\n",
    "def test_norm_l2(model):\n",
    "    # Test if L2 projection of inner weights worked\n",
    "    current_weights = tf.concat(\n",
    "        [tf.reshape(v, [-1]) for v in model.trainable_weights[:-1]], axis=0\n",
    "    )\n",
    "    sub_nets_init_weights = model.sub_nets_init_weights\n",
    "    diff = sub_nets_init_weights - current_weights\n",
    "    norm = tf.norm(diff)\n",
    "    print(\"norm: {}, delta: {}\".format(norm, model.delta))"
   ]
  },
  {
   "cell_type": "code",
   "execution_count": 16,
   "metadata": {},
   "outputs": [
    {
     "name": "stdout",
     "output_type": "stream",
     "text": [
      "norm: 0.7622666954994202, gamma: 10\n",
      "norm: 0.0030101335141807795, delta: 1.0\n"
     ]
    }
   ],
   "source": [
    "test_norm_l1(model)\n",
    "test_norm_l2(model)"
   ]
  }
 ],
 "metadata": {
  "kernelspec": {
   "display_name": "py4ds",
   "language": "python",
   "name": "python3"
  },
  "language_info": {
   "codemirror_mode": {
    "name": "ipython",
    "version": 3
   },
   "file_extension": ".py",
   "mimetype": "text/x-python",
   "name": "python",
   "nbconvert_exporter": "python",
   "pygments_lexer": "ipython3",
   "version": "3.11.7"
  }
 },
 "nbformat": 4,
 "nbformat_minor": 2
}
