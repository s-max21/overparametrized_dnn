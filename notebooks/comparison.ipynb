{
 "cells": [
  {
   "cell_type": "code",
   "execution_count": 1,
   "metadata": {},
   "outputs": [
    {
     "name": "stdout",
     "output_type": "stream",
     "text": [
      "Current Working Directory: c:\\Users\\max-s\\Desktop\\Uni\\Master\\Masterthesis\\Code\\git\\overparametrized_dnn\n"
     ]
    }
   ],
   "source": [
    "import os\n",
    "\n",
    "os.chdir(\"..\")\n",
    "\n",
    "current_directory = os.getcwd()\n",
    "print(\"Current Working Directory:\", current_directory)"
   ]
  },
  {
   "cell_type": "code",
   "execution_count": 3,
   "metadata": {},
   "outputs": [],
   "source": [
    "# Import necessary modules and functions\n",
    "import pandas as pd\n",
    "import numpy as np\n",
    "import tensorflow as tf\n",
    "import keras\n",
    "import matplotlib.pyplot as plt\n",
    "from sklearn.model_selection import train_test_split\n",
    "\n",
    "from src.neural_nets import create_neural_1, create_neural_3, create_neural_6, parameter_tuning_nn, runs_nn\n",
    "from data.data_generator import get_data, preprocess"
   ]
  },
  {
   "cell_type": "markdown",
   "metadata": {},
   "source": [
    "Regression function and data for hyperparameter tuning of the networks"
   ]
  },
  {
   "cell_type": "code",
   "execution_count": null,
   "metadata": {},
   "outputs": [],
   "source": [
    "def regression_func(x):\n",
    "    return np.exp(np.linalg.norm(x, axis=1))\n",
    "\n",
    "input_dim = 7\n",
    "\n",
    "x, y = get_data(regression_func, x_dim=input_dim, num_samples=100, sigma=0.05)\n",
    "x_train, x_val, y_train, y_val = train_test_split(x, y, test_size=0.2)\n",
    "\n",
    "train_data = preprocess(x_train, y_train, batch_size=20, training=True)\n",
    "val_data = preprocess(x_val, y_val, batch_size=20, training=False)"
   ]
  },
  {
   "cell_type": "markdown",
   "metadata": {},
   "source": [
    "Neural Network with one hidden Layer"
   ]
  },
  {
   "cell_type": "code",
   "execution_count": 4,
   "metadata": {},
   "outputs": [
    {
     "name": "stdout",
     "output_type": "stream",
     "text": [
      "Unit: 5, MSE: 13.116472244262695, MAE: 3.503201723098755\n",
      "Unit: 10, MSE: 0.9905808568000793, MAE: 0.8468599319458008\n",
      "Unit: 25, MSE: 0.18164971470832825, MAE: 0.3196832239627838\n",
      "Unit: 50, MSE: 0.19012995064258575, MAE: 0.33600401878356934\n",
      "WARNING:tensorflow:5 out of the last 5 calls to <function TensorFlowTrainer.make_test_function.<locals>.one_step_on_iterator at 0x00000292CFB25300> triggered tf.function retracing. Tracing is expensive and the excessive number of tracings could be due to (1) creating @tf.function repeatedly in a loop, (2) passing tensors with different shapes, (3) passing Python objects instead of tensors. For (1), please define your @tf.function outside of the loop. For (2), @tf.function has reduce_retracing=True option that can avoid unnecessary retracing. For (3), please refer to https://www.tensorflow.org/guide/function#controlling_retracing and https://www.tensorflow.org/api_docs/python/tf/function for  more details.\n",
      "Unit: 75, MSE: 0.1763584464788437, MAE: 0.3360835313796997\n",
      "{'best_hp': 75, 'mse': 0.1763584464788437}\n"
     ]
    }
   ],
   "source": [
    "# Hyperparameter tuning of network with 1 hidden layer\n",
    "\n",
    "units = [5,10,25,50,75]\n",
    "best_hp = parameter_tuning_nn(\n",
    "    create_neural_1,\n",
    "    train_data = train_data,\n",
    "    test_data = val_data,\n",
    "    input_dim = input_dim,\n",
    "    units = units,\n",
    "    epochs = 1000,\n",
    ")\n",
    "\n",
    "print(best_hp)"
   ]
  },
  {
   "cell_type": "code",
   "execution_count": 5,
   "metadata": {},
   "outputs": [
    {
     "name": "stdout",
     "output_type": "stream",
     "text": [
      "WARNING:tensorflow:6 out of the last 6 calls to <function TensorFlowTrainer.make_test_function.<locals>.one_step_on_iterator at 0x00000292D1931BC0> triggered tf.function retracing. Tracing is expensive and the excessive number of tracings could be due to (1) creating @tf.function repeatedly in a loop, (2) passing tensors with different shapes, (3) passing Python objects instead of tensors. For (1), please define your @tf.function outside of the loop. For (2), @tf.function has reduce_retracing=True option that can avoid unnecessary retracing. For (3), please refer to https://www.tensorflow.org/guide/function#controlling_retracing and https://www.tensorflow.org/api_docs/python/tf/function for  more details.\n"
     ]
    }
   ],
   "source": [
    "unit = best_hp['best_hp']\n",
    "mses_neural_1, maes_neural_1 = runs_nn(\n",
    "    create_neural_1,\n",
    "    input_dim=input_dim,\n",
    "    regression_func=regression_func,\n",
    "    units=unit,\n",
    "    epochs=1000,\n",
    "    batch_size=20,\n",
    "    )"
   ]
  },
  {
   "cell_type": "code",
   "execution_count": 8,
   "metadata": {},
   "outputs": [],
   "source": [
    "results_neural_1 = pd.DataFrame(\n",
    "    {\n",
    "        \"MSE\": mses_neural_1,\n",
    "        \"MAE\": maes_neural_1,\n",
    "    }\n",
    ")\n",
    "\n",
    "results_neural_1.to_csv(\"results/neural_1.csv\", index=False)"
   ]
  },
  {
   "cell_type": "markdown",
   "metadata": {},
   "source": [
    "Neural Network with three hidden layers"
   ]
  },
  {
   "cell_type": "code",
   "execution_count": 9,
   "metadata": {},
   "outputs": [
    {
     "name": "stdout",
     "output_type": "stream",
     "text": [
      "Unit: 3, MSE: 20.612680435180664, MAE: 4.42000675201416\n",
      "Unit: 6, MSE: 0.43768349289894104, MAE: 0.5681979656219482\n",
      "Unit: 9, MSE: 0.24310246109962463, MAE: 0.3963361382484436\n",
      "Unit: 12, MSE: 0.3424869477748871, MAE: 0.509814977645874\n",
      "Unit: 15, MSE: 0.24686332046985626, MAE: 0.4217095971107483\n",
      "{'best_hp': 9, 'mse': 0.24686332046985626}\n"
     ]
    }
   ],
   "source": [
    "# Hyperparameter tuning of network with 3 hidden layer\n",
    "\n",
    "units = [3, 6, 9, 12, 15]\n",
    "best_hp = parameter_tuning_nn(\n",
    "    create_neural_3,\n",
    "    train_data = train_data,\n",
    "    test_data = val_data,\n",
    "    input_dim = input_dim,\n",
    "    units = units,\n",
    "    epochs=1000,\n",
    ")\n",
    "\n",
    "print(best_hp)"
   ]
  },
  {
   "cell_type": "code",
   "execution_count": 10,
   "metadata": {},
   "outputs": [],
   "source": [
    "unit = best_hp['best_hp']\n",
    "mses_neural_3, maes_neural_3 = runs_nn(\n",
    "    create_neural_3,\n",
    "    input_dim=input_dim,\n",
    "    regression_func=regression_func,\n",
    "    units=unit,\n",
    "    epochs=1000,\n",
    "    batch_size=20,\n",
    "    )"
   ]
  },
  {
   "cell_type": "code",
   "execution_count": 11,
   "metadata": {},
   "outputs": [],
   "source": [
    "results_neural_3 = pd.DataFrame(\n",
    "    {\n",
    "        \"MSE\": mses_neural_3,\n",
    "        \"MAE\": maes_neural_3,\n",
    "    }\n",
    ")\n",
    "\n",
    "results_neural_3.to_csv(\"results/neural_3.csv\", index=False)"
   ]
  },
  {
   "cell_type": "markdown",
   "metadata": {},
   "source": [
    "Neural Network with six hidden layers"
   ]
  },
  {
   "cell_type": "code",
   "execution_count": 12,
   "metadata": {},
   "outputs": [
    {
     "name": "stdout",
     "output_type": "stream",
     "text": [
      "Unit: 2, MSE: 0.5373400449752808, MAE: 0.627848744392395\n",
      "Unit: 4, MSE: 0.5617508292198181, MAE: 0.6291511058807373\n",
      "Unit: 6, MSE: 0.340087890625, MAE: 0.45552605390548706\n",
      "Unit: 8, MSE: 0.4938618242740631, MAE: 0.5562616586685181\n",
      "Unit: 10, MSE: 0.26772668957710266, MAE: 0.418938547372818\n",
      "{'best_hp': 10, 'mse': 0.26772668957710266}\n"
     ]
    }
   ],
   "source": [
    "# Hyperparameter tuning of network with 6 hidden layer\n",
    "\n",
    "units = [2, 4, 6, 8, 10]\n",
    "best_hp = parameter_tuning_nn(\n",
    "    create_neural_6,\n",
    "    train_data = train_data,\n",
    "    test_data = val_data,\n",
    "    input_dim = input_dim,\n",
    "    units = units,\n",
    "    epochs=1000,\n",
    ")\n",
    "\n",
    "print(best_hp)"
   ]
  },
  {
   "cell_type": "code",
   "execution_count": 13,
   "metadata": {},
   "outputs": [],
   "source": [
    "unit = best_hp['best_hp']\n",
    "mses_neural_6, maes_neural_6 = runs_nn(\n",
    "    create_neural_6,\n",
    "    input_dim=input_dim,\n",
    "    regression_func=regression_func,\n",
    "    units=unit,\n",
    "    epochs=1000,\n",
    "    batch_size=20,\n",
    "    )"
   ]
  },
  {
   "cell_type": "code",
   "execution_count": 14,
   "metadata": {},
   "outputs": [],
   "source": [
    "results_neural_6 = pd.DataFrame(\n",
    "    {\n",
    "        \"MSE\": mses_neural_6,\n",
    "        \"MAE\": maes_neural_6,\n",
    "    }\n",
    ")\n",
    "\n",
    "results_neural_6.to_csv(\"results/neural_6.csv\", index=False)"
   ]
  }
 ],
 "metadata": {
  "kernelspec": {
   "display_name": "py4ds",
   "language": "python",
   "name": "python3"
  },
  "language_info": {
   "codemirror_mode": {
    "name": "ipython",
    "version": 3
   },
   "file_extension": ".py",
   "mimetype": "text/x-python",
   "name": "python",
   "nbconvert_exporter": "python",
   "pygments_lexer": "ipython3",
   "version": "3.11.7"
  }
 },
 "nbformat": 4,
 "nbformat_minor": 2
}
