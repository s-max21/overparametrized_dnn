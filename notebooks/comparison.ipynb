{
 "cells": [
  {
   "cell_type": "code",
   "execution_count": 1,
   "metadata": {},
   "outputs": [
    {
     "name": "stdout",
     "output_type": "stream",
     "text": [
      "Current Working Directory: c:\\Users\\max-s\\Desktop\\Uni\\Master\\Masterthesis\\Code\\git\\overparametrized_dnn\n"
     ]
    }
   ],
   "source": [
    "import os\n",
    "\n",
    "os.chdir(\"..\")\n",
    "\n",
    "current_directory = os.getcwd()\n",
    "print(\"Current Working Directory:\", current_directory)"
   ]
  },
  {
   "cell_type": "code",
   "execution_count": 1,
   "metadata": {},
   "outputs": [
    {
     "name": "stdout",
     "output_type": "stream",
     "text": [
      "Keras Version: 3.0.5\n",
      "Tensorflow Version: 2.16.1\n"
     ]
    }
   ],
   "source": [
    "import keras\n",
    "import tensorflow as tf\n",
    "\n",
    "print(\"Keras Version:\", keras.__version__)\n",
    "print(\"Tensorflow Version:\", tf.__version__)"
   ]
  },
  {
   "cell_type": "code",
   "execution_count": 2,
   "metadata": {},
   "outputs": [],
   "source": [
    "# Import necessary modules and functions\n",
    "import pandas as pd\n",
    "import numpy as np\n",
    "from sklearn.model_selection import train_test_split\n",
    "\n",
    "from src.neural_nets import create_neural_1, create_neural_3, create_neural_6, parameter_tuning_nn, runs_nn\n",
    "from src.knn_regression import parameter_tuning_knn, runs_knn\n",
    "from data.data_generator import get_data, preprocess"
   ]
  },
  {
   "cell_type": "markdown",
   "metadata": {},
   "source": [
    "Regression function and data for hyperparameter tuning of the networks"
   ]
  },
  {
   "cell_type": "code",
   "execution_count": 3,
   "metadata": {},
   "outputs": [],
   "source": [
    "def regression_func(x):\n",
    "    return np.exp(np.linalg.norm(x, axis=1))\n",
    "\n",
    "input_dim = 7\n",
    "\n",
    "x, y = get_data(regression_func, x_dim=input_dim, num_samples=100, sigma=0.05)\n",
    "x_train, x_val, y_train, y_val = train_test_split(x, y, test_size=0.2)\n",
    "\n",
    "train_data = preprocess(x_train, y_train, batch_size=20, training=True)\n",
    "val_data = preprocess(x_val, y_val, batch_size=20, training=False)"
   ]
  },
  {
   "cell_type": "markdown",
   "metadata": {},
   "source": [
    "Neural Network with one hidden Layer"
   ]
  },
  {
   "cell_type": "code",
   "execution_count": 4,
   "metadata": {},
   "outputs": [
    {
     "name": "stdout",
     "output_type": "stream",
     "text": [
      "Unit: 5, MSE: 0.2168329656124115, MAE: 0.3897862732410431\n",
      "Unit: 10, MSE: 0.10799791663885117, MAE: 0.2666034400463104\n",
      "Unit: 25, MSE: 0.0902738943696022, MAE: 0.24648132920265198\n",
      "Unit: 50, MSE: 0.13269713521003723, MAE: 0.2800270617008209\n",
      "WARNING:tensorflow:5 out of the last 5 calls to <function TensorFlowTrainer.make_test_function.<locals>.one_step_on_iterator at 0x000001C78D3FBEC0> triggered tf.function retracing. Tracing is expensive and the excessive number of tracings could be due to (1) creating @tf.function repeatedly in a loop, (2) passing tensors with different shapes, (3) passing Python objects instead of tensors. For (1), please define your @tf.function outside of the loop. For (2), @tf.function has reduce_retracing=True option that can avoid unnecessary retracing. For (3), please refer to https://www.tensorflow.org/guide/function#controlling_retracing and https://www.tensorflow.org/api_docs/python/tf/function for  more details.\n",
      "Unit: 75, MSE: 0.1240115612745285, MAE: 0.2723569869995117\n",
      "{'best_hp': 25, 'mse': 0.1240115612745285}\n"
     ]
    }
   ],
   "source": [
    "# Hyperparameter tuning of network with 1 hidden layer\n",
    "\n",
    "units = [5,10,25,50,75]\n",
    "best_hp = parameter_tuning_nn(\n",
    "    create_neural_1,\n",
    "    train_data = train_data,\n",
    "    test_data = val_data,\n",
    "    input_dim = input_dim,\n",
    "    units = units,\n",
    "    epochs = 1000,\n",
    ")\n",
    "\n",
    "print(best_hp)"
   ]
  },
  {
   "cell_type": "code",
   "execution_count": 5,
   "metadata": {},
   "outputs": [
    {
     "name": "stdout",
     "output_type": "stream",
     "text": [
      "WARNING:tensorflow:6 out of the last 6 calls to <function TensorFlowTrainer.make_test_function.<locals>.one_step_on_iterator at 0x000001C78F3F8EA0> triggered tf.function retracing. Tracing is expensive and the excessive number of tracings could be due to (1) creating @tf.function repeatedly in a loop, (2) passing tensors with different shapes, (3) passing Python objects instead of tensors. For (1), please define your @tf.function outside of the loop. For (2), @tf.function has reduce_retracing=True option that can avoid unnecessary retracing. For (3), please refer to https://www.tensorflow.org/guide/function#controlling_retracing and https://www.tensorflow.org/api_docs/python/tf/function for  more details.\n"
     ]
    }
   ],
   "source": [
    "unit = best_hp['best_hp']\n",
    "mses_neural_1, maes_neural_1 = runs_nn(\n",
    "    create_neural_1,\n",
    "    input_dim=input_dim,\n",
    "    regression_func=regression_func,\n",
    "    units=unit,\n",
    "    epochs=1000,\n",
    "    batch_size=20,\n",
    "    )"
   ]
  },
  {
   "cell_type": "code",
   "execution_count": 6,
   "metadata": {},
   "outputs": [],
   "source": [
    "results_neural_1 = pd.DataFrame(\n",
    "    {\n",
    "        \"MSE\": mses_neural_1,\n",
    "        \"MAE\": maes_neural_1,\n",
    "    }\n",
    ")\n",
    "\n",
    "median_neural_1 = results_neural_1.median()\n",
    "iqr_nerual_1 = results_neural_1.quantile(0.75) - results_neural_1.quantile(0.25)\n",
    "\n",
    "results_neural_1.to_csv(\"results/neural_1.csv\", index=False)"
   ]
  },
  {
   "cell_type": "markdown",
   "metadata": {},
   "source": [
    "Neural Network with three hidden layers"
   ]
  },
  {
   "cell_type": "code",
   "execution_count": 7,
   "metadata": {},
   "outputs": [
    {
     "name": "stdout",
     "output_type": "stream",
     "text": [
      "Unit: 3, MSE: 0.0658610537648201, MAE: 0.21022877097129822\n",
      "Unit: 6, MSE: 0.12469211965799332, MAE: 0.2777542471885681\n",
      "Unit: 9, MSE: 0.07162357121706009, MAE: 0.20529866218566895\n",
      "Unit: 12, MSE: 0.12747475504875183, MAE: 0.3189464211463928\n",
      "Unit: 15, MSE: 0.1181844025850296, MAE: 0.26013341546058655\n",
      "{'best_hp': 3, 'mse': 0.1181844025850296}\n"
     ]
    }
   ],
   "source": [
    "# Hyperparameter tuning of network with 3 hidden layer\n",
    "\n",
    "units = [3, 6, 9, 12, 15]\n",
    "best_hp = parameter_tuning_nn(\n",
    "    create_neural_3,\n",
    "    train_data = train_data,\n",
    "    test_data = val_data,\n",
    "    input_dim = input_dim,\n",
    "    units = units,\n",
    "    epochs=1000,\n",
    ")\n",
    "\n",
    "print(best_hp)"
   ]
  },
  {
   "cell_type": "code",
   "execution_count": 8,
   "metadata": {},
   "outputs": [],
   "source": [
    "unit = best_hp['best_hp']\n",
    "mses_neural_3, maes_neural_3 = runs_nn(\n",
    "    create_neural_3,\n",
    "    input_dim=input_dim,\n",
    "    regression_func=regression_func,\n",
    "    units=unit,\n",
    "    epochs=1000,\n",
    "    batch_size=20,\n",
    "    )"
   ]
  },
  {
   "cell_type": "code",
   "execution_count": 9,
   "metadata": {},
   "outputs": [],
   "source": [
    "results_neural_3 = pd.DataFrame(\n",
    "    {\n",
    "        \"MSE\": mses_neural_3,\n",
    "        \"MAE\": maes_neural_3,\n",
    "    }\n",
    ")\n",
    "\n",
    "median_neural_3 = results_neural_3.median()\n",
    "iqr_nerual_3 = results_neural_3.quantile(0.75) - results_neural_3.quantile(0.25)\n",
    "\n",
    "results_neural_3.to_csv(\"results/neural_3.csv\", index=False)"
   ]
  },
  {
   "cell_type": "markdown",
   "metadata": {},
   "source": [
    "Neural Network with six hidden layers"
   ]
  },
  {
   "cell_type": "code",
   "execution_count": 10,
   "metadata": {},
   "outputs": [
    {
     "name": "stdout",
     "output_type": "stream",
     "text": [
      "Unit: 2, MSE: 5.333621978759766, MAE: 1.8797540664672852\n",
      "Unit: 4, MSE: 0.06482017785310745, MAE: 0.2042514979839325\n",
      "Unit: 6, MSE: 0.08910302072763443, MAE: 0.24334374070167542\n",
      "Unit: 8, MSE: 0.20454709231853485, MAE: 0.36493217945098877\n",
      "Unit: 10, MSE: 0.11168136447668076, MAE: 0.2055419385433197\n",
      "{'best_hp': 4, 'mse': 0.11168136447668076}\n"
     ]
    }
   ],
   "source": [
    "# Hyperparameter tuning of network with 6 hidden layer\n",
    "\n",
    "units = [2, 4, 6, 8, 10]\n",
    "best_hp = parameter_tuning_nn(\n",
    "    create_neural_6,\n",
    "    train_data = train_data,\n",
    "    test_data = val_data,\n",
    "    input_dim = input_dim,\n",
    "    units = units,\n",
    "    epochs=1000,\n",
    ")\n",
    "\n",
    "print(best_hp)"
   ]
  },
  {
   "cell_type": "code",
   "execution_count": 11,
   "metadata": {},
   "outputs": [],
   "source": [
    "unit = best_hp['best_hp']\n",
    "mses_neural_6, maes_neural_6 = runs_nn(\n",
    "    create_neural_6,\n",
    "    input_dim=input_dim,\n",
    "    regression_func=regression_func,\n",
    "    units=unit,\n",
    "    epochs=1000,\n",
    "    batch_size=20,\n",
    "    )"
   ]
  },
  {
   "cell_type": "code",
   "execution_count": 12,
   "metadata": {},
   "outputs": [],
   "source": [
    "results_neural_6 = pd.DataFrame(\n",
    "    {\n",
    "        \"MSE\": mses_neural_6,\n",
    "        \"MAE\": maes_neural_6,\n",
    "    }\n",
    ")\n",
    "\n",
    "median_neural_6 = results_neural_6.median()\n",
    "iqr_nerual_6 = results_neural_6.quantile(0.75) - results_neural_6.quantile(0.25)\n",
    "\n",
    "results_neural_6.to_csv(\"results/neural_6.csv\", index=False)"
   ]
  },
  {
   "cell_type": "markdown",
   "metadata": {},
   "source": [
    "kNN Regression"
   ]
  },
  {
   "cell_type": "code",
   "execution_count": 4,
   "metadata": {},
   "outputs": [
    {
     "name": "stdout",
     "output_type": "stream",
     "text": [
      "Unit: 1, MSE: 1.0684580712367673, MAE: 0.7683278653402889\n",
      "Unit: 2, MSE: 0.7584612835123383, MAE: 0.6802976742432603\n",
      "Unit: 3, MSE: 1.0370811383495164, MAE: 0.8423768007038621\n",
      "Unit: 4, MSE: 0.8248808066537725, MAE: 0.7452062394329765\n",
      "Unit: 8, MSE: 0.7809706135667434, MAE: 0.7074845799948501\n",
      "Unit: 12, MSE: 0.7183030296695786, MAE: 0.7022738817688879\n",
      "Unit: 16, MSE: 0.8809886997044984, MAE: 0.7834409141864931\n",
      "Unit: 20, MSE: 0.92385741014287, MAE: 0.8175227746934179\n",
      "Unit: 24, MSE: 1.0236330435262897, MAE: 0.8731860991465485\n",
      "Unit: 28, MSE: 1.125868602738458, MAE: 0.8897779620013914\n",
      "Unit: 32, MSE: 1.1816884645202443, MAE: 0.909025525805038\n",
      "Unit: 36, MSE: 1.2955915338788455, MAE: 0.9536674153164346\n",
      "Unit: 40, MSE: 1.3824764972133898, MAE: 0.9840291982365361\n",
      "Unit: 44, MSE: 1.4558678278589343, MAE: 1.0116164567303703\n",
      "Unit: 48, MSE: 1.4933857029070194, MAE: 1.014201963944672\n",
      "Unit: 52, MSE: 1.5679071070363704, MAE: 1.0330762377593372\n",
      "Unit: 56, MSE: 1.6679374794248556, MAE: 1.0618032648130822\n",
      "Unit: 60, MSE: 1.7347087378652213, MAE: 1.088687246874551\n",
      "Unit: 64, MSE: 1.8349176092375328, MAE: 1.1198011087489337\n",
      "Unit: 68, MSE: 1.9377423216741572, MAE: 1.1495738518146856\n",
      "Unit: 72, MSE: 2.0567178201895, MAE: 1.1915358171448376\n",
      "Unit: 76, MSE: 2.2109744498945703, MAE: 1.2427529954976626\n",
      "Unit: 80, MSE: 2.3680917735037417, MAE: 1.289277385243302\n"
     ]
    }
   ],
   "source": [
    "# Preprocess data\n",
    "train_data = (x_train, y_train)\n",
    "test_data = (x_val, y_val)\n",
    "\n",
    "# Tune number of neighbors\n",
    "u = [1, 2, 3]\n",
    "v = [i for i in range(4, x_train.shape[0]+1, 4)]\n",
    "units = u + v\n",
    "best_params = parameter_tuning_knn(\n",
    "    units=units,\n",
    "    train_data=train_data,\n",
    "    test_data=test_data,\n",
    ")\n",
    "\n",
    "# Calculate regression for the best number of neighbors\n",
    "best_units = best_params[\"best_config\"]\n",
    "knn_mses, knn_maes = runs_knn(\n",
    "    unit=best_units,\n",
    "    input_dim=input_dim,\n",
    "    regression_func=regression_func,\n",
    ")"
   ]
  },
  {
   "cell_type": "code",
   "execution_count": 6,
   "metadata": {},
   "outputs": [],
   "source": [
    "results_knn = pd.DataFrame(\n",
    "    {\n",
    "        \"MSE\": knn_mses,\n",
    "        \"MAE\": knn_maes,\n",
    "    }\n",
    ")\n",
    "\n",
    "median_knn = results_knn.median()\n",
    "iqr_knn = results_knn.quantile(0.75) - results_knn.quantile(0.25)\n",
    "\n",
    "results_knn.to_csv(\"results/knn.csv\", index=False)"
   ]
  }
 ],
 "metadata": {
  "kernelspec": {
   "display_name": "py4ds",
   "language": "python",
   "name": "python3"
  },
  "language_info": {
   "codemirror_mode": {
    "name": "ipython",
    "version": 3
   },
   "file_extension": ".py",
   "mimetype": "text/x-python",
   "name": "python",
   "nbconvert_exporter": "python",
   "pygments_lexer": "ipython3",
   "version": "3.11.7"
  }
 },
 "nbformat": 4,
 "nbformat_minor": 2
}
